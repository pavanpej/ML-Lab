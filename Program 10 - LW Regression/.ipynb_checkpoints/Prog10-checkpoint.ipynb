{
 "cells": [
  {
   "cell_type": "markdown",
   "metadata": {},
   "source": [
    "# Program 10 - Locally Weighted Regression\n",
    "---"
   ]
  },
  {
   "cell_type": "code",
   "execution_count": 1,
   "metadata": {
    "collapsed": true
   },
   "outputs": [],
   "source": [
    "import matplotlib.pyplot as plt\n",
    "import pandas as pd\n",
    "import numpy as np"
   ]
  },
  {
   "cell_type": "markdown",
   "metadata": {},
   "source": [
    "## 1st formula => w = e ^ -(dotProd(X - X₀) / (2 * k²))"
   ]
  },
  {
   "cell_type": "code",
   "execution_count": 2,
   "metadata": {
    "collapsed": true
   },
   "outputs": [],
   "source": [
    "def kernel(point, xmat, k):\n",
    "    m,n = np.shape(xmat)\n",
    "    weights = np.mat(np.eye((m))) # eye - identity matrix\n",
    "    \n",
    "    for i in range(m):\n",
    "        diff = point - xmat[i]\n",
    "        weights[i,i] = np.exp(diff*diff.T/(-2.0*k**2))\n",
    "    return weights"
   ]
  },
  {
   "cell_type": "markdown",
   "metadata": {},
   "source": [
    "## 2nd formula => β = (X' * w * X)⁻¹ * (X' * w * y')\n",
    "\n",
    "in the above formula, y is supposed to be a row vector"
   ]
  },
  {
   "cell_type": "code",
   "execution_count": 3,
   "metadata": {
    "collapsed": true
   },
   "outputs": [],
   "source": [
    "def localWeight(point,xmat,ymat,k):\n",
    "    wei = kernel(point,xmat,k)\n",
    "    #ymat is a column. Transpose to make it a row\n",
    "    W = (xmat.T*(wei*xmat)).I*(xmat.T*(wei*ymat.T))\n",
    "    return W"
   ]
  },
  {
   "cell_type": "markdown",
   "metadata": {},
   "source": [
    "## 3rd formula =>      y = β * X₀"
   ]
  },
  {
   "cell_type": "code",
   "execution_count": 4,
   "metadata": {
    "collapsed": true
   },
   "outputs": [],
   "source": [
    "def localWeightRegression(xmat,ymat,k):\n",
    "    \n",
    "    #matrix order : 16x1; m=16, n =1\n",
    "    m,n = np.shape(xmat)\n",
    "    ypred = np.zeros(m)\n",
    "\n",
    "    for i in range(m):\n",
    "        ypred[i] = xmat[i]*localWeight(xmat[i],xmat,ymat,k)\n",
    "    \n",
    "    return ypred"
   ]
  },
  {
   "cell_type": "markdown",
   "metadata": {},
   "source": [
    "## Function to Plot Graphs\n",
    "\n",
    "This function uses matplotlib to plot the graph using the dataset `X,ypred` passed as parameters."
   ]
  },
  {
   "cell_type": "code",
   "execution_count": 5,
   "metadata": {
    "collapsed": true
   },
   "outputs": [],
   "source": [
    "def graphPlot(X,ypred):\n",
    "    \n",
    "    sortindex = X[:,1].argsort(0) #argsort - index of the smallest\n",
    "    xsort = X[sortindex][:,0]\n",
    "    \n",
    "    #setup figure\n",
    "    plt.figure()\n",
    "    plt.subplot(1,1,1)\n",
    "    plt.scatter(bill, tip, color = 'blue')\n",
    "    plt.plot(xsort[:,1], ypred[sortindex], color = 'red', linewidth=5)\n",
    "    \n",
    "    plt.xlabel('Total bill')\n",
    "    plt.ylabel('Tip')\n",
    "    plt.show();"
   ]
  },
  {
   "cell_type": "markdown",
   "metadata": {},
   "source": [
    "## Load dataset\n",
    "\n",
    "We use a bill and tip dataset for regression.\n",
    "\n",
    "### Preprocessing before prediction\n",
    "- Get data set\n",
    "- Convert original list vector into matrix with 1 row (row vectors are `mbill` and `mtip` below)\n",
    "- Find `m`: which is the number of instances (records), i.e., num of rows\n",
    "- Create a matrix with 1 row (like above) with the same order as **`mbill`, (1 * m)**\n",
    "- We then use `np.hstack()` to create a (2 * m) with first column as all ones, and second column as the `mbill` values"
   ]
  },
  {
   "cell_type": "code",
   "execution_count": 6,
   "metadata": {},
   "outputs": [
    {
     "name": "stdout",
     "output_type": "stream",
     "text": [
      "[[1.01 1.66 3.5  3.31 3.61 4.71 2.   3.12 1.96 3.23 1.71 5.   1.57 3.\n",
      "  3.02 3.92]] (1, 16)\n"
     ]
    }
   ],
   "source": [
    "# load data points\n",
    "data = pd.read_csv('prog10_dataset.csv')\n",
    "\n",
    "# dataset is X = bill amount, and Y = tips.\n",
    "bill = np.array(data.total_bill)\n",
    "tip = np.array(data.tip)\n",
    "\n",
    "mbill = np.mat(bill) # .mat will convert nd array is converted in 2D array\n",
    "mtip = np.mat(tip)\n",
    "\n",
    "print(mtip, np.shape(mtip))\n",
    "\n",
    "m = np.shape(mbill)[1]\n",
    "one = np.mat(np.ones(m))\n",
    "\n",
    "X = np.hstack((one.T,mbill.T)) # 16 rows, 2 cols ; rows = no. of records"
   ]
  },
  {
   "cell_type": "markdown",
   "metadata": {},
   "source": [
    "## Predict\n",
    "\n",
    "Finally, predict for different k values"
   ]
  },
  {
   "cell_type": "code",
   "execution_count": 7,
   "metadata": {
    "scrolled": false
   },
   "outputs": [
    {
     "name": "stdout",
     "output_type": "stream",
     "text": [
      "For k = 3, plot:\n"
     ]
    },
    {
     "data": {
      "image/png": "[encoded data removed]",
      "text/plain": [
       "<Figure size 432x288 with 1 Axes>"
      ]
     },
     "metadata": {},
     "output_type": "display_data"
    }
   ],
   "source": [
    "# increase k to get smooth curves\n",
    "# here k = 3\n",
    "ypred = localWeightRegression(X,mtip,3)\n",
    "print(\"For k = 3, plot:\")\n",
    "graphPlot(X,ypred)"
   ]
  },
  {
   "cell_type": "code",
   "execution_count": 8,
   "metadata": {},
   "outputs": [
    {
     "name": "stdout",
     "output_type": "stream",
     "text": [
      "For k = 5, plot:\n"
     ]
    },
    {
     "data": {
      "image/png": "[encoded data removed]",
      "text/plain": [
       "<Figure size 432x288 with 1 Axes>"
      ]
     },
     "metadata": {},
     "output_type": "display_data"
    }
   ],
   "source": [
    "# changed k value \n",
    "# here k = 5\n",
    "ypred = localWeightRegression(X,mtip,5)\n",
    "print(\"For k = 5, plot:\")\n",
    "graphPlot(X,ypred)"
   ]
  },
  {
   "cell_type": "code",
   "execution_count": null,
   "metadata": {
    "collapsed": true
   },
   "outputs": [],
   "source": []
  }
 ],
 "metadata": {
  "kernelspec": {
   "display_name": "Python 3",
   "language": "python",
   "name": "python3"
  },
  "language_info": {
   "codemirror_mode": {
    "name": "ipython",
    "version": 3
   },
   "file_extension": ".py",
   "mimetype": "text/x-python",
   "name": "python",
   "nbconvert_exporter": "python",
   "pygments_lexer": "ipython3",
   "version": "3.6.4"
  }
 },
 "nbformat": 4,
 "nbformat_minor": 2
}
