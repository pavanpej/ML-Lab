{
 "cells": [
  {
   "cell_type": "markdown",
   "metadata": {},
   "source": [
    "# Program 5 - Naive Bayesian Classifier for Dataset\n",
    "\n",
    "---\n",
    "\n",
    "We use `pandas` and `math`\n",
    "\n",
    "First we split the data set into training and testing data"
   ]
  },
  {
   "cell_type": "code",
   "execution_count": 18,
   "metadata": {
    "collapsed": true
   },
   "outputs": [],
   "source": [
    "import pandas\n",
    "import math\n",
    "\n",
    "def prepare_data() :\n",
    "    \n",
    "    # read data\n",
    "    dataset = pandas.read_csv('prog5_dataset.csv').values\n",
    "\n",
    "    # split dataset into train and test data\n",
    "    split_ratio = 0.95\n",
    "    split_index = int(len(dataset) * split_ratio)\n",
    "    training_data = dataset[ : split_index]\n",
    "    test_data = dataset[split_index : ]\n",
    "    return (training_data, test_data)\n",
    "\n",
    "#     the following set of statements randomize the data set, unlike the above set of statements\n",
    "\n",
    "#     splitRatio = 0.7\n",
    "#     testSize = int(len(dataset) * splitRatio);\n",
    "#     trainSet = list(dataset);\n",
    "#     testSet = []\n",
    "#     while len(testSet) < testSize:\n",
    "#         index = random.randrange(len(trainSet));\n",
    "#         testSet.append(trainSet.pop(index))\n",
    "#     return (trainSet, testSet)"
   ]
  },
  {
   "cell_type": "markdown",
   "metadata": {},
   "source": [
    "Then we split the dataset into \"yes\" and \"no\" valued data sets."
   ]
  },
  {
   "cell_type": "code",
   "execution_count": 9,
   "metadata": {
    "collapsed": true
   },
   "outputs": [],
   "source": [
    "def split_yes_no(data) :\n",
    "    \n",
    "    # data whose target is 1\n",
    "    yes_data = []\n",
    "    \n",
    "    # data whose target is 0\n",
    "    no_data = []\n",
    "    \n",
    "    for index in range(len(data)) :\n",
    "        if data[index][-1] == 1:\n",
    "            yes_data.append(data[index])\n",
    "        else:\n",
    "            no_data.append(data[index])\n",
    "    \n",
    "    return (yes_data, no_data)"
   ]
  },
  {
   "cell_type": "markdown",
   "metadata": {},
   "source": [
    "## Mean and Standard Deviation"
   ]
  },
  {
   "cell_type": "code",
   "execution_count": 10,
   "metadata": {
    "collapsed": true
   },
   "outputs": [],
   "source": [
    "# Calculates the mean \n",
    "def mean(numbers):\n",
    "    return sum(numbers) / len(numbers)"
   ]
  },
  {
   "cell_type": "code",
   "execution_count": 11,
   "metadata": {
    "collapsed": true
   },
   "outputs": [],
   "source": [
    "# Calculates the standard deviation\n",
    "# std. dev = root( sum( (x - x')^2 ) / n )\n",
    "def standard_deviation(numbers):\n",
    "    average = mean(numbers)\n",
    "    variance = sum([pow(number - average, 2) for number in numbers]) / (len(numbers) - 1)\n",
    "    return math.sqrt(variance)"
   ]
  },
  {
   "cell_type": "markdown",
   "metadata": {},
   "source": [
    "Calculate the Mean and STD of each attribute"
   ]
  },
  {
   "cell_type": "code",
   "execution_count": 12,
   "metadata": {
    "collapsed": true
   },
   "outputs": [],
   "source": [
    "# Calculates the mean and standard deviation of each attribute\n",
    "def summarize(data):\n",
    "    summaries = [(mean(attribute), standard_deviation(attribute)) for attribute in zip(*data)]\n",
    "    del summaries[-1]\n",
    "    return summaries"
   ]
  },
  {
   "cell_type": "markdown",
   "metadata": {},
   "source": [
    "## Calculate probability\n",
    "\n",
    "The probability of the summary is given using Gaussian (Normal) distribution"
   ]
  },
  {
   "cell_type": "code",
   "execution_count": 13,
   "metadata": {
    "collapsed": true
   },
   "outputs": [],
   "source": [
    "def calculate_probability(summary, item):\n",
    "    probability = 1\n",
    "    for index in range(len(summary)):\n",
    "        x = item[index]\n",
    "        mean, standard_deviation = summary[index]\n",
    "        exponent = math.exp(-pow(x - mean, 2) / (2 * standard_deviation ** 2))\n",
    "        final = exponent / (math.sqrt(2 * math.pi) * standard_deviation)\n",
    "        probability *= final\n",
    "    return probability"
   ]
  },
  {
   "cell_type": "markdown",
   "metadata": {},
   "source": [
    "## Finally, predict."
   ]
  },
  {
   "cell_type": "code",
   "execution_count": 14,
   "metadata": {},
   "outputs": [],
   "source": [
    "training_data, test_data = prepare_data()\n",
    "yes_data, no_data = split_yes_no(training_data)\n",
    "\n",
    "# Summarize Yes and No\n",
    "yes_data = summarize(yes_data)\n",
    "no_data = summarize(no_data)\n",
    "\n",
    "# List holding the predictions\n",
    "predictions = []\n",
    "\n",
    "for record in test_data :\n",
    "    yes_probability = calculate_probability(yes_data, record)\n",
    "    no_probability = calculate_probability(no_data, record)\n",
    "    \n",
    "    predictions.append(1 if yes_probability > no_probability else 0)"
   ]
  },
  {
   "cell_type": "markdown",
   "metadata": {},
   "source": [
    "Check the number of correct predictions, for accuracy."
   ]
  },
  {
   "cell_type": "code",
   "execution_count": 15,
   "metadata": {
    "collapsed": true
   },
   "outputs": [],
   "source": [
    "# checking number of correct predictions\n",
    "correct_prediction = 0\n",
    "\n",
    "for i in range(len(test_data)):\n",
    "    if(test_data[i][-1] == predictions[i]):\n",
    "        correct_prediction += 1"
   ]
  },
  {
   "cell_type": "markdown",
   "metadata": {},
   "source": [
    "Finally, print accuracy of the predictions."
   ]
  },
  {
   "cell_type": "code",
   "execution_count": 16,
   "metadata": {},
   "outputs": [
    {
     "name": "stdout",
     "output_type": "stream",
     "text": [
      "ACTUAL VALUE \t PREDICTED VALUE\n",
      "0.0 \t\t 0\n",
      "1.0 \t\t 0\n",
      "1.0 \t\t 0\n",
      "1.0 \t\t 1\n",
      "0.0 \t\t 0\n",
      "0.0 \t\t 0\n",
      "0.0 \t\t 0\n",
      "0.0 \t\t 0\n",
      "0.0 \t\t 0\n",
      "0.0 \t\t 0\n",
      "1.0 \t\t 0\n",
      "1.0 \t\t 1\n",
      "0.0 \t\t 0\n",
      "0.0 \t\t 0\n",
      "1.0 \t\t 1\n",
      "0.0 \t\t 1\n",
      "0.0 \t\t 1\n",
      "1.0 \t\t 1\n",
      "0.0 \t\t 1\n",
      "1.0 \t\t 1\n",
      "1.0 \t\t 1\n",
      "1.0 \t\t 1\n",
      "0.0 \t\t 0\n",
      "0.0 \t\t 0\n",
      "1.0 \t\t 1\n",
      "1.0 \t\t 1\n",
      "1.0 \t\t 1\n",
      "0.0 \t\t 1\n",
      "1.0 \t\t 0\n",
      "0.0 \t\t 0\n",
      "1.0 \t\t 1\n",
      "0.0 \t\t 0\n",
      "1.0 \t\t 1\n",
      "0.0 \t\t 0\n",
      "0.0 \t\t 1\n",
      "0.0 \t\t 0\n",
      "0.0 \t\t 0\n",
      "1.0 \t\t 0\n",
      "0.0 \t\t 0\n",
      "\n",
      "Accuracy is  74.35897435897436 %\n"
     ]
    }
   ],
   "source": [
    "print(\"ACTUAL VALUE \\t PREDICTED VALUE\")\n",
    "for i in range(len(test_data)):\n",
    "    print(test_data[i][-1], \"\\t\\t\", predictions[i])\n",
    "\n",
    "print(\"\\nAccuracy is \", ((correct_prediction / len(test_data)) * 100), \"%\")"
   ]
  },
  {
   "cell_type": "code",
   "execution_count": null,
   "metadata": {
    "collapsed": true
   },
   "outputs": [],
   "source": []
  }
 ],
 "metadata": {
  "kernelspec": {
   "display_name": "Python 3",
   "language": "python",
   "name": "python3"
  },
  "language_info": {
   "codemirror_mode": {
    "name": "ipython",
    "version": 3
   },
   "file_extension": ".py",
   "mimetype": "text/x-python",
   "name": "python",
   "nbconvert_exporter": "python",
   "pygments_lexer": "ipython3",
   "version": "3.6.4"
  }
 },
 "nbformat": 4,
 "nbformat_minor": 2
}
