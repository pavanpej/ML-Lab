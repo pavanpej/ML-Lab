{
 "cells": [
  {
   "cell_type": "markdown",
   "metadata": {},
   "source": [
    "# Program 5 - Naive Bayesian for dataset\n",
    "\n",
    "---\n",
    "\n",
    "The `statistics` package is used for mean and standard deviation"
   ]
  },
  {
   "cell_type": "code",
   "execution_count": 1,
   "metadata": {
    "collapsed": true
   },
   "outputs": [],
   "source": [
    "import csv, random, math\n",
    "import statistics as st"
   ]
  },
  {
   "cell_type": "markdown",
   "metadata": {},
   "source": [
    "## Get dataset - `loadCsv`"
   ]
  },
  {
   "cell_type": "code",
   "execution_count": 2,
   "metadata": {
    "collapsed": true
   },
   "outputs": [],
   "source": [
    "def loadCsv(filename):\n",
    "    lines = csv.reader(open(filename, \"r\"));\n",
    "    dataset = list(lines)\n",
    "    for i in range(len(dataset)):\n",
    "        dataset[i] = [float(x) for x in dataset[i]]\n",
    "    return dataset"
   ]
  },
  {
   "cell_type": "markdown",
   "metadata": {},
   "source": [
    "## Split dataset function - `splitDataset`\n",
    "Split into training and testing"
   ]
  },
  {
   "cell_type": "code",
   "execution_count": 17,
   "metadata": {
    "collapsed": true
   },
   "outputs": [],
   "source": [
    "def splitDataset(dataset, splitRatio):\n",
    "    testSize = int(len(dataset) * splitRatio);\n",
    "    trainSet = list(dataset);\n",
    "    testSet = []\n",
    "    \n",
    "    # init training set as entire dataset, then keep popping random records and put them into test dataset\n",
    "    while len(testSet) < testSize:\n",
    "        index = random.randrange(len(trainSet));\n",
    "        testSet.append(trainSet.pop(index))\n",
    "    \n",
    "    return [trainSet, testSet]"
   ]
  },
  {
   "cell_type": "markdown",
   "metadata": {},
   "source": [
    "## `separateByClass` - Separate dataset based on class\n",
    "\n",
    "`separated` - is a dictionary and each item is a key: value pair where,\n",
    "\n",
    "- key : is the class value \n",
    "- value : is a list containing the dataset records which have target equal to that class value  "
   ]
  },
  {
   "cell_type": "code",
   "execution_count": 4,
   "metadata": {
    "collapsed": true
   },
   "outputs": [],
   "source": [
    "def separateByClass(dataset):\n",
    "    separated = {}\n",
    "    for i in range(len(dataset)):\n",
    "        x = dataset[i] # current row\n",
    "        if (x[-1] not in separated):\n",
    "            separated[x[-1]] = []\n",
    "        separated[x[-1]].append(x)\n",
    "    return separated"
   ]
  },
  {
   "cell_type": "markdown",
   "metadata": {},
   "source": [
    "## `compute_mean_std` - to compute Mean and Standard Dev.\n",
    "\n",
    "The mean and standard deviation is calculated using the `statistics` package.\n",
    "\n",
    "This mean and std is calculated for all the attributes.\n",
    "\n",
    "`zip(*dataset)` transposes a matrix so that each row is an attribute, and the mean and STD are calculated for that row, which is an attribute."
   ]
  },
  {
   "cell_type": "code",
   "execution_count": 15,
   "metadata": {
    "collapsed": true
   },
   "outputs": [],
   "source": [
    "def compute_mean_std(dataset):\n",
    "    \n",
    "    # zip(*res) transposes a matrix (2-d array/list)\n",
    "    mean_std = [\n",
    "        (st.mean(attribute), st.stdev(attribute)) for attribute in zip(*dataset)\n",
    "    ]; \n",
    "    \n",
    "    del mean_std[-1] # Exclude label, i.e., target\n",
    "    return mean_std"
   ]
  },
  {
   "cell_type": "markdown",
   "metadata": {},
   "source": [
    "## `summarizeByClass` - Mean and STD of each target class"
   ]
  },
  {
   "cell_type": "code",
   "execution_count": 6,
   "metadata": {
    "collapsed": true
   },
   "outputs": [],
   "source": [
    "def summarizeByClass(dataset): # summary is the mean and STD of class values\n",
    "    separated = separateByClass(dataset);\n",
    "    summary = {} # to store mean and std of +ve and -ve instances\n",
    "    for classValue, instances in separated.items():\n",
    "        #summaries is a dictionary of tuples(mean,std) for each class value\n",
    "        summary[classValue] = compute_mean_std(instances)\n",
    "    return summary"
   ]
  },
  {
   "cell_type": "markdown",
   "metadata": {},
   "source": [
    "## `estimateProbability` - Gaussian (Normal) Distribution function"
   ]
  },
  {
   "cell_type": "code",
   "execution_count": 7,
   "metadata": {
    "collapsed": true
   },
   "outputs": [],
   "source": [
    "#For continuous attributes, p is estimated using Gaussian distribution\n",
    "def estimateProbability(x, mean, stdev):\n",
    "    exponent = math.exp(-(math.pow(x-mean,2)/(2*math.pow(stdev,2))))\n",
    "    return (1 / (math.sqrt(2*math.pi) * stdev)) * exponent"
   ]
  },
  {
   "cell_type": "markdown",
   "metadata": {},
   "source": [
    "## Calculate Probabilities of each target class"
   ]
  },
  {
   "cell_type": "code",
   "execution_count": 16,
   "metadata": {
    "collapsed": true
   },
   "outputs": [],
   "source": [
    "# calculate class probabilities of that entire row (testVector)\n",
    "def calculateClassProbabilities(summaries, testVector):\n",
    "    p = {}\n",
    "    #class and attribute information as mean and sd\n",
    "    for classValue, classSummaries in summaries.items():\n",
    "        p[classValue] = 1\n",
    "        for i in range(len(classSummaries)):\n",
    "            mean, stdev = classSummaries[i]\n",
    "            x = testVector[i] #testvector's i-th attribute\n",
    "            \n",
    "            #use normal distribution\n",
    "            p[classValue] *= estimateProbability(x, mean, stdev)\n",
    "            \n",
    "    return p"
   ]
  },
  {
   "cell_type": "markdown",
   "metadata": {},
   "source": [
    "## Prediction\n",
    "\n",
    "In the `for` loop, check all probabilities and then select best probability."
   ]
  },
  {
   "cell_type": "code",
   "execution_count": 9,
   "metadata": {
    "collapsed": true
   },
   "outputs": [],
   "source": [
    "# calculate best out of all class probabilities of that entire row (testVector)\n",
    "def predict(summaries, testVector):\n",
    "    all_p = calculateClassProbabilities(summaries, testVector)\n",
    "    bestLabel, bestProb = None, -1\n",
    "    for lbl, p in all_p.items():#assigns that class which has he highest prob\n",
    "        if bestLabel is None or p > bestProb:\n",
    "            bestProb = p\n",
    "            bestLabel = lbl\n",
    "    return bestLabel"
   ]
  },
  {
   "cell_type": "markdown",
   "metadata": {},
   "source": [
    "## Classification of record\n",
    "\n",
    "Here, we go through the **testset** and find the final predeicted target values for all test data."
   ]
  },
  {
   "cell_type": "code",
   "execution_count": 10,
   "metadata": {
    "collapsed": true
   },
   "outputs": [],
   "source": [
    "# find predicted class for each row in testSet\n",
    "def perform_classification(summaries, testSet):\n",
    "    predictions = []\n",
    "    for i in range(len(testSet)):\n",
    "        result = predict(summaries, testSet[i])\n",
    "        predictions.append(result)\n",
    "    return predictions"
   ]
  },
  {
   "cell_type": "markdown",
   "metadata": {},
   "source": [
    "## Accuracy\n",
    "\n",
    "Accuracy = correct_length / total_length"
   ]
  },
  {
   "cell_type": "code",
   "execution_count": 11,
   "metadata": {
    "collapsed": true
   },
   "outputs": [],
   "source": [
    "def getAccuracy(testSet, predictions):\n",
    "    correct = 0\n",
    "    for i in range(len(testSet)):\n",
    "        if testSet[i][-1] == predictions[i]:\n",
    "            correct += 1\n",
    "    return (correct/float(len(testSet))) * 100.0"
   ]
  },
  {
   "cell_type": "markdown",
   "metadata": {},
   "source": [
    "## Load dataset and do prediction."
   ]
  },
  {
   "cell_type": "code",
   "execution_count": 12,
   "metadata": {},
   "outputs": [
    {
     "name": "stdout",
     "output_type": "stream",
     "text": [
      "Pima Indian Diabetes Dataset loaded...\n",
      "Total instances available : 768\n",
      "Total attributes present : 8\n",
      "First Five instances of dataset:\n",
      "1 : [6.0, 148.0, 72.0, 35.0, 0.0, 33.6, 0.627, 50.0, 1.0]\n",
      "2 : [1.0, 85.0, 66.0, 29.0, 0.0, 26.6, 0.351, 31.0, 0.0]\n",
      "3 : [8.0, 183.0, 64.0, 0.0, 0.0, 23.3, 0.672, 32.0, 1.0]\n",
      "4 : [1.0, 89.0, 66.0, 23.0, 94.0, 28.1, 0.167, 21.0, 0.0]\n",
      "5 : [0.0, 137.0, 40.0, 35.0, 168.0, 43.1, 2.288, 33.0, 1.0]\n"
     ]
    }
   ],
   "source": [
    "# dataset = loadCsv('pima-indians-diabetes.csv');\n",
    "dataset = loadCsv('prog5_dataset.csv');\n",
    "\n",
    "#print dataset\n",
    "print('Pima Indian Diabetes Dataset loaded...')\n",
    "print('Total instances available :',len(dataset))\n",
    "print('Total attributes present :',len(dataset[0])-1)\n",
    "print(\"First Five instances of dataset:\")\n",
    "for i in range(5):\n",
    "    print(i+1 , ':' , dataset[i])\n",
    "    "
   ]
  },
  {
   "cell_type": "markdown",
   "metadata": {},
   "source": [
    "### Split and test"
   ]
  },
  {
   "cell_type": "code",
   "execution_count": 13,
   "metadata": {},
   "outputs": [
    {
     "name": "stdout",
     "output_type": "stream",
     "text": [
      "\n",
      "Dataset is split into training and testing set.\n",
      "Training examples = 615 \n",
      "Testing examples = 153\n",
      "\n",
      "Accuracy of the Naive Baysian Classifier is : 75.16339869281046\n"
     ]
    }
   ],
   "source": [
    "splitRatio = 0.2\n",
    "trainingSet, testSet = splitDataset(dataset, splitRatio)\n",
    "\n",
    "print('\\nDataset is split into training and testing set.')\n",
    "print('Training examples = {0} \\nTesting examples = {1}'.format(len(trainingSet), len(testSet)))\n",
    "\n",
    "summaries = summarizeByClass(trainingSet);\n",
    "\n",
    "predictions = perform_classification(summaries, testSet)\n",
    "\n",
    "accuracy = getAccuracy(testSet, predictions)\n",
    "\n",
    "print('\\nAccuracy of the Naive Baysian Classifier is :', accuracy)"
   ]
  }
 ],
 "metadata": {
  "kernelspec": {
   "display_name": "Python 3",
   "language": "python",
   "name": "python3"
  },
  "language_info": {
   "codemirror_mode": {
    "name": "ipython",
    "version": 3
   },
   "file_extension": ".py",
   "mimetype": "text/x-python",
   "name": "python",
   "nbconvert_exporter": "python",
   "pygments_lexer": "ipython3",
   "version": "3.6.4"
  }
 },
 "nbformat": 4,
 "nbformat_minor": 2
}
