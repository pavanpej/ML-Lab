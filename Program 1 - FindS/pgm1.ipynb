{
 "cells": [
  {
   "cell_type": "markdown",
   "metadata": {},
   "source": [
    "## Program 1 - FIND-S "
   ]
  },
  {
   "cell_type": "code",
   "execution_count": 1,
   "metadata": {},
   "outputs": [
    {
     "name": "stdout",
     "output_type": "stream",
     "text": [
      "['sunny', 'warm', 'normal', 'strong', 'warm', 'same']\n",
      "['sunny', 'warm', '?', 'strong', 'warm', 'same']\n",
      "['sunny', 'warm', '?', 'strong', 'warm', 'same']\n",
      "['sunny', 'warm', '?', 'strong', '?', '?']\n"
     ]
    }
   ],
   "source": [
    "import csv\n",
    "\n",
    "with open('pgm1.csv') as fh:\n",
    "    reader = csv.reader(fh)\n",
    "    h = ['0','0','0','0','0','0']\n",
    "    for row in reader:\n",
    "        if row[-1] == 'no':\n",
    "            print(h)\n",
    "            continue\n",
    "        for i in range(len(row)-1):\n",
    "            if h[i] != row[i] and h[i] != '0':\n",
    "                h[i] = '?'\n",
    "            elif h[i] == '0':\n",
    "                h[i] = row[i]\n",
    "        print(h)"
   ]
  },
  {
   "cell_type": "code",
   "execution_count": null,
   "metadata": {
    "collapsed": true
   },
   "outputs": [],
   "source": []
  }
 ],
 "metadata": {
  "kernelspec": {
   "display_name": "Python 3",
   "language": "python",
   "name": "python3"
  },
  "language_info": {
   "codemirror_mode": {
    "name": "ipython",
    "version": 3
   },
   "file_extension": ".py",
   "mimetype": "text/x-python",
   "name": "python",
   "nbconvert_exporter": "python",
   "pygments_lexer": "ipython3",
   "version": "3.6.4"
  }
 },
 "nbformat": 4,
 "nbformat_minor": 2
}
